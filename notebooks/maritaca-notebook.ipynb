{
 "cells": [
  {
   "cell_type": "code",
   "execution_count": null,
   "metadata": {},
   "outputs": [],
   "source": [
    "# pip install python-dotenv\n",
    "from dotenv import load_dotenv\n",
    "\n",
    "load_dotenv()"
   ]
  },
  {
   "cell_type": "code",
   "execution_count": 15,
   "metadata": {},
   "outputs": [
    {
     "name": "stdout",
     "output_type": "stream",
     "text": [
      "{'answer': 'Peço desculpas, mas como um modelo de IA, não tenho acesso a informações em tempo real, incluindo a temperatura atual de Piracicaba ou qualquer outra localidade. Recomendo verificar um site de previsão do tempo ou um aplicativo para obter essa informação atualizada.', 'usage': {'completion_tokens': 63, 'prompt_tokens': 9, 'total_tokens': 72}, 'model': 'sabia-3'}\n"
     ]
    }
   ],
   "source": [
    "import maritalk\n",
    "import os\n",
    "\n",
    "model = maritalk.MariTalk(\n",
    "    key=os.getenv(\"MARITACA_API_KEY\"),\n",
    "    model=\"sabia-3\"  # No momento, suportamos os modelos sabia-3, sabia-2-medium e sabia-2-small\n",
    ")\n",
    "\n",
    "# Exemplo de uso\n",
    "response = model.generate(\"Qual a temperatura de Piracicaba agora?\")\n",
    "print(response)\n"
   ]
  },
  {
   "cell_type": "code",
   "execution_count": 16,
   "metadata": {},
   "outputs": [
    {
     "name": "stdout",
     "output_type": "stream",
     "text": [
      "{'answer': 'DDD pode se referir a várias coisas, dependendo do contexto. Aqui estão algumas das definições mais comuns:\\n\\n1. **DDD (Domain-Driven Design)**: No contexto de desenvolvimento de software, DDD é um processo de design de software que foca em modelar as estruturas de software a partir de conceitos centrais do domínio da aplicação. É uma abordagem que prioriza a modelagem baseada nos processos de negócios e nas necessidades do domínio, e é especialmente útil em projetos complexos onde a lógica de negócios é intensa.\\n\\n2. **DDD (Discagem Direta a Distância)**: No contexto de telefonia, DDD é um serviço que permite realizar chamadas telefônicas diretamente para outras localidades ou cidades, sem a necessidade de operadores telefônicos. No Brasil, por exemplo, cada cidade tem um código DDD específico que deve ser discado antes do número do telefone para completar a chamada.\\n\\n3. **DDD (Dia D de Desenvolvimento)**: Em algumas empresas ou comunidades de desenvolvimento de software, pode-se referir a um evento ou dia dedicado ao desenvolvimento intensivo de um projeto, semelhante a um \"hackathon\".\\n\\nPara fornecer a informação mais relevante, seria útil saber mais sobre o contexto em que você se deparou com a sigla DDD.', 'usage': {'completion_tokens': 308, 'prompt_tokens': 6, 'total_tokens': 314}, 'model': 'sabia-3'}\n"
     ]
    }
   ],
   "source": [
    "response = model.generate(\"O que é DDD?\")\n",
    "print(response)"
   ]
  },
  {
   "cell_type": "code",
   "execution_count": 17,
   "metadata": {},
   "outputs": [
    {
     "data": {
      "text/plain": [
       "dict"
      ]
     },
     "execution_count": 17,
     "metadata": {},
     "output_type": "execute_result"
    }
   ],
   "source": [
    "type(response)\n"
   ]
  },
  {
   "cell_type": "code",
   "execution_count": 4,
   "metadata": {},
   "outputs": [
    {
     "data": {
      "text/plain": [
       "dict_keys(['answer', 'usage', 'model'])"
      ]
     },
     "execution_count": 4,
     "metadata": {},
     "output_type": "execute_result"
    }
   ],
   "source": [
    "response.keys()"
   ]
  },
  {
   "cell_type": "code",
   "execution_count": 5,
   "metadata": {},
   "outputs": [
    {
     "data": {
      "text/plain": [
       "dict_items([('answer', 'DDD pode se referir a diferentes conceitos, dependendo do contexto:\\n\\n1. **Domain-Driven Design (DDD)**: No contexto de desenvolvimento de software, DDD é uma abordagem para projetar e desenvolver software complexo, especialmente para domínios de negócios complicados. A ideia principal é focar no núcleo de domínio e nas entidades de negócio, utilizando um modelo de domínio rico para orientar o design do software. Isso envolve a criação de um vocabulário comum entre os desenvolvedores e os especialistas de negócios, chamado de \"linguagem ubíqua\", e a utilização de padrões e práticas que ajudam a manter o código alinhado com a complexidade do domínio.\\n\\n2. **DDD (Discagem Direta à Distância)**: No contexto de telefonia, DDD se refere ao sistema de Discagem Direta à Distância, que permite fazer chamadas telefônicas para outras localidades (cidades ou países) sem a necessidade de intermediários, como operadores de telefonia. Cada localidade possui um código DDD específico que deve ser discado antes do número do telefone para completar a chamada.\\n\\n3. **DDD (Doutoramento Direto em Disciplina)**: Em algumas universidades e sistemas educacionais, DDD pode se referir a um tipo de doutorado em que o estudante pode ingressar diretamente após a graduação, sem a necessidade de obter primeiro um título de mestre.\\n\\n4. **DDD (Densidade de Dispositivos por Dose)**: No contexto médico, especialmente em oncologia, pode-se referir à densidade de dispositivos médicos ou componentes ativos por unidade de dose de tratamento, embora esse uso seja menos comum e mais específico.\\n\\nÉ importante entender o contexto em que a sigla DDD é usada para determinar o significado correto. Se você estiver se referindo a algo específico, por favor, forneça mais detalhes para que eu possa oferecer uma resposta mais precisa.'), ('usage', {'completion_tokens': 457, 'prompt_tokens': 6, 'total_tokens': 463}), ('model', 'sabia-3')])"
      ]
     },
     "execution_count": 5,
     "metadata": {},
     "output_type": "execute_result"
    }
   ],
   "source": [
    "response.items()"
   ]
  },
  {
   "cell_type": "code",
   "execution_count": 6,
   "metadata": {},
   "outputs": [
    {
     "name": "stdout",
     "output_type": "stream",
     "text": [
      "{'answer': 'DDD pode se referir a diferentes conceitos, dependendo do '\n",
      "           'contexto:\\n'\n",
      "           '\\n'\n",
      "           '1. **Domain-Driven Design (DDD)**: No contexto de desenvolvimento '\n",
      "           'de software, DDD é uma abordagem para projetar e desenvolver '\n",
      "           'software complexo, especialmente para domínios de negócios '\n",
      "           'complicados. A ideia principal é focar no núcleo de domínio e nas '\n",
      "           'entidades de negócio, utilizando um modelo de domínio rico para '\n",
      "           'orientar o design do software. Isso envolve a criação de um '\n",
      "           'vocabulário comum entre os desenvolvedores e os especialistas de '\n",
      "           'negócios, chamado de \"linguagem ubíqua\", e a utilização de padrões '\n",
      "           'e práticas que ajudam a manter o código alinhado com a '\n",
      "           'complexidade do domínio.\\n'\n",
      "           '\\n'\n",
      "           '2. **DDD (Discagem Direta à Distância)**: No contexto de '\n",
      "           'telefonia, DDD se refere ao sistema de Discagem Direta à '\n",
      "           'Distância, que permite fazer chamadas telefônicas para outras '\n",
      "           'localidades (cidades ou países) sem a necessidade de '\n",
      "           'intermediários, como operadores de telefonia. Cada localidade '\n",
      "           'possui um código DDD específico que deve ser discado antes do '\n",
      "           'número do telefone para completar a chamada.\\n'\n",
      "           '\\n'\n",
      "           '3. **DDD (Doutoramento Direto em Disciplina)**: Em algumas '\n",
      "           'universidades e sistemas educacionais, DDD pode se referir a um '\n",
      "           'tipo de doutorado em que o estudante pode ingressar diretamente '\n",
      "           'após a graduação, sem a necessidade de obter primeiro um título de '\n",
      "           'mestre.\\n'\n",
      "           '\\n'\n",
      "           '4. **DDD (Densidade de Dispositivos por Dose)**: No contexto '\n",
      "           'médico, especialmente em oncologia, pode-se referir à densidade de '\n",
      "           'dispositivos médicos ou componentes ativos por unidade de dose de '\n",
      "           'tratamento, embora esse uso seja menos comum e mais específico.\\n'\n",
      "           '\\n'\n",
      "           'É importante entender o contexto em que a sigla DDD é usada para '\n",
      "           'determinar o significado correto. Se você estiver se referindo a '\n",
      "           'algo específico, por favor, forneça mais detalhes para que eu '\n",
      "           'possa oferecer uma resposta mais precisa.',\n",
      " 'model': 'sabia-3',\n",
      " 'usage': {'completion_tokens': 457, 'prompt_tokens': 6, 'total_tokens': 463}}\n"
     ]
    }
   ],
   "source": [
    "import pprint\n",
    "\n",
    "pprint.pprint(response)"
   ]
  },
  {
   "cell_type": "code",
   "execution_count": 7,
   "metadata": {},
   "outputs": [
    {
     "data": {
      "text/plain": [
       "str"
      ]
     },
     "execution_count": 7,
     "metadata": {},
     "output_type": "execute_result"
    }
   ],
   "source": [
    "type(response[\"answer\"])"
   ]
  },
  {
   "cell_type": "code",
   "execution_count": null,
   "metadata": {},
   "outputs": [
    {
     "name": "stdout",
     "output_type": "stream",
     "text": [
      "DDD, ou \"Domain-Driven Design\", é uma abordagem para o desenvolvimento de software que coloca um grande enfoque no entendimento profundo do domínio do negócio e na modelagem de software alinhada com esse domínio. Criado por Eric Evans, o DDD é particularmente útil em projetos complexos onde a lógica de negócios é intrincada e há a necessidade de alinhar o código com as estratégias e regras do negócio.\n",
      "\n",
      "A ideia central do DDD é que o modelo de domínio – a representação das necessidades e regras do negócio dentro do software – deve ser a peça central do projeto e desenvolvimento. Isso significa que as decisões de design devem ser orientadas pelo entendimento do domínio e que o código deve refletir esse entendimento.\n",
      "\n",
      "**Princípios Chaves do DDD:**\n",
      "\n",
      "1. **Modelo Ubíquo**: O vocabulário usado no código deve ser o mesmo utilizado pelos especialistas de negócio. Isso promove uma comunicação efetiva entre desenvolvedores e profissionais de negócios, garantindo que todos estejam falando da mesma coisa.\n",
      "\n",
      "2. **Foco no Domínio**: A prioridade é entender e refletir as regras e complexidades do negócio no modelo de software. Isso significa que o código deve expressar o conhecimento do domínio e deve ser constantemente revisado e refatorado para manter essa expressão clara.\n",
      "\n",
      "3. **Contextos Limitados**: Em sistemas grandes e complexos, é comum que diferentes partes do modelo de domínio evoluam de forma independente. Os contextos limitados ajudam a definir fronteiras claras onde um modelo específico é aplicável e onde termina, evitando conflitos de terminologia e integração.\n",
      "\n",
      "**Elementos do DDD:**\n",
      "\n",
      "- **Entidades**: São objetos que são definidos por sua identidade. Elas podem ser alteradas ao longo do tempo sem mudar sua identidade.\n",
      "\n",
      "- **Valor Objects**: Objetos que são definidos pelo valor de seus atributos. Eles são imutáveis e não possuem uma identidade única.\n",
      "\n",
      "- **Agregados**: São grupos de objetos do domínio que são tratados como uma unidade única quando se trata de consistência de dados. Cada agregado tem uma raiz, que é uma entidade e garante a consistência e a integridade de seus membros.\n",
      "\n",
      "- **Repositórios**: Responsáveis por fornecer mecanismos para acessar e persistir entidades e agregados de uma forma que esconde a complexidade do armazenamento subjacente.\n",
      "\n",
      "- **Serviços de Domínio**: Serviços que contêm lógica de negócios que não pode ser atribuída a uma entidade ou valor objeto específico.\n",
      "\n",
      "- **Fábricas**: Responsáveis por criar objetos complexos de uma maneira que garanta a integridade do objeto.\n",
      "\n",
      "**Aplicando DDD em Python:**\n",
      "\n",
      "No Python, é possível aplicar os conceitos do DDD de maneira bastante natural, dada a sua flexibilidade e suporte a paradigmas orientados a objetos e funcionalidades.\n",
      "\n",
      "Por exemplo, ao definir uma Entidade, você pode criar uma classe que represente um conceito central do seu domínio:\n",
      "\n",
      "```python\n",
      "class Usuario:\n",
      "    def __init__(self, id, nome, email):\n",
      "        self.id = id\n",
      "        self.nome = nome\n",
      "        self.email = email\n",
      "\n",
      "    def alterar_email(self, novo_email):\n",
      "        # Lógica para validar e alterar o email\n",
      "        if '@' not in novo_email:\n",
      "            raise ValueError(\"Email inválido\")\n",
      "        self.email = novo_email\n",
      "```\n",
      "\n",
      "Para os Objetos de Valor, você pode criar classes imutáveis:\n",
      "\n",
      "```python\n",
      "class Email:\n",
      "    def __init__(self, endereco):\n",
      "        self._endereco = self._validar_endereco(endereco)\n",
      "\n",
      "    @property\n",
      "    def endereco(self):\n",
      "        return self._endereco\n",
      "\n",
      "    def _validar_endereco(self, endereco):\n",
      "        if '@' not in endereco:\n",
      "            raise ValueError(\"Email inválido\")\n",
      "        return endereco\n",
      "\n",
      "    def __eq__(self, outro):\n",
      "        return self._endereco == outro._endereco\n",
      "\n",
      "    def __hash__(self):\n",
      "        return hash(self._endereco)\n",
      "```\n",
      "\n",
      "Note que `Email` é imutável, uma vez que não fornece métodos para alterar seu endereço após a criação, e pode ser usado como chave em estruturas de dados devido a `__eq__` e `__hash__`.\n",
      "\n",
      "Os repositórios podem ser implementados como classes que abstraem a forma como os dados são armazenados e recuperados:\n",
      "\n",
      "```python\n",
      "class RepositorioUsuario:\n",
      "    def __init__(self):\n",
      "        self._usuarios = {}\n",
      "\n",
      "    def adicionar(self, usuario):\n",
      "        self._usuarios[usuario.id] = usuario\n",
      "\n",
      "    def obter(self, id):\n",
      "        return self._usuarios.get(id)\n",
      "```\n",
      "\n",
      "O DDD incentiva a comunicação e colaboração entre desenvolvedores e especialistas de domínio, e promove um design de software que é sustentável e evolutivo. Ao aplicar esses conceitos, você pode criar sistemas mais robustos e alinhados com as necessidades do negócio, o que é especialmente valioso em ambientes onde o entendimento do domínio é crítico para o sucesso do projeto."
     ]
    }
   ],
   "source": [
    "import os\n",
    "import openai\n",
    "\n",
    "client = openai.OpenAI(\n",
    "    api_key=os.environ.get(\"MARITACA_API_KEY\"),\n",
    "    base_url=\"https://chat.maritaca.ai/api\",\n",
    ")\n",
    "\n",
    "stream = client.chat.completions.create(\n",
    "  model=\"sabia-3\",\n",
    "  messages=[\n",
    "    {\"role\": \"system\", \"content\": \"Você é um programador sênior experiente em python. Seja descritivo e gentil.\"},\n",
    "    {\"role\": \"user\", \"content\": \"Me fale sobre o DDD\"},\n",
    "  ],\n",
    "  stream=True,\n",
    "  #max_tokens=100\n",
    ")\n",
    "\n",
    "for chunk in stream:\n",
    "  print(chunk.choices[0].delta.content or \"\", end=\"\", flush=True)"
   ]
  },
  {
   "cell_type": "code",
   "execution_count": null,
   "metadata": {},
   "outputs": [],
   "source": []
  }
 ],
 "metadata": {
  "kernelspec": {
   "display_name": "env",
   "language": "python",
   "name": "python3"
  },
  "language_info": {
   "codemirror_mode": {
    "name": "ipython",
    "version": 3
   },
   "file_extension": ".py",
   "mimetype": "text/x-python",
   "name": "python",
   "nbconvert_exporter": "python",
   "pygments_lexer": "ipython3",
   "version": "3.11.9"
  }
 },
 "nbformat": 4,
 "nbformat_minor": 2
}
